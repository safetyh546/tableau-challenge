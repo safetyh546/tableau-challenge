{
 "cells": [
  {
   "cell_type": "code",
   "execution_count": 5,
   "metadata": {},
   "outputs": [
    {
     "name": "stdout",
     "output_type": "stream",
     "text": [
      "Appending file Resources\\JC-201901-citibike-tripdata.csv BikeData Count=19676\n",
      "Appending file Resources\\JC-201902-citibike-tripdata.csv BikeData Count=38241\n",
      "Appending file Resources\\JC-201903-citibike-tripdata.csv BikeData Count=61847\n",
      "Appending file Resources\\JC-201904-citibike-tripdata.csv BikeData Count=94903\n",
      "Appending file Resources\\JC-201905-citibike-tripdata.csv BikeData Count=131038\n",
      "Appending file Resources\\JC-201906-citibike-tripdata.csv BikeData Count=170468\n",
      "Appending file Resources\\JC-201907-citibike-tripdata.csv BikeData Count=214214\n",
      "Appending file Resources\\JC-201908-citibike-tripdata.csv BikeData Count=262925\n",
      "Appending file Resources\\JC-201909-citibike-tripdata.csv BikeData Count=312169\n",
      "Appending file Resources\\JC-201910-citibike-tripdata.csv BikeData Count=354422\n",
      "Appending file Resources\\JC-201911-citibike-tripdata.csv BikeData Count=385219\n",
      "Appending file Resources\\JC-201912-citibike-tripdata.csv BikeData Count=404947\n",
      "Appending file Resources\\JC-202001-citibike-tripdata.csv BikeData Count=430967\n",
      "Appending file Resources\\JC-202002-citibike-tripdata.csv BikeData Count=453929\n",
      "Appending file Resources\\JC-202003-citibike-tripdata.csv BikeData Count=471648\n",
      "Appending file Resources\\JC-202004-citibike-tripdata.csv BikeData Count=480916\n",
      "Appending file Resources\\JC-202005-citibike-tripdata.csv BikeData Count=505993\n",
      "Appending file Resources\\JC-202006-citibike-tripdata.csv BikeData Count=542914\n",
      "Appending file Resources\\JC-202007-citibike-tripdata.csv BikeData Count=581594\n",
      "Appending file Resources\\JC-202008-citibike-tripdata.csv BikeData Count=624861\n",
      "Appending file Resources\\JC-202009-citibike-tripdata.csv BikeData Count=678694\n",
      "Appending file Resources\\JC-202010-citibike-tripdata.csv BikeData Count=708780\n",
      "Appending file Resources\\JC-202011-citibike-tripdata.csv BikeData Count=730055\n",
      "Appending file Resources\\JC-202012-citibike-tripdata.csv BikeData Count=741749\n",
      "Writing combined file\n"
     ]
    }
   ],
   "source": [
    "# Dependencies and Setup\n",
    "import pandas as pd\n",
    "import os\n",
    "from pathlib import Path\n",
    "\n",
    "\n",
    "pathlist = Path(\"Resources/\").rglob('*.csv')\n",
    "output_file = \"Resources/BikeDataCombined.csv\"\n",
    "os.remove(output_file)\n",
    "\n",
    "Counter = 1\n",
    "\n",
    "for path in pathlist:\n",
    "    if Counter == 1:\n",
    "        BikeData = pd.read_csv(path)\n",
    "    else:\n",
    "        BikeData = BikeData.append(pd.read_csv(path))\n",
    "    Counter += 1\n",
    "    print('Appending file '+ str(path) + ' BikeData Count=' + str(BikeData[\"tripduration\"].count()))\n",
    "\n",
    "    \n",
    "BikeData.reset_index(inplace=True)\n",
    "BikeData = BikeData.rename(columns = {'index':'TripID'})    \n",
    "    \n",
    "print('Writing combined file')    \n",
    "BikeData.to_csv(output_file, index = False)"
   ]
  },
  {
   "cell_type": "code",
   "execution_count": null,
   "metadata": {},
   "outputs": [],
   "source": []
  }
 ],
 "metadata": {
  "kernelspec": {
   "display_name": "Python 3",
   "language": "python",
   "name": "python3"
  },
  "language_info": {
   "codemirror_mode": {
    "name": "ipython",
    "version": 3
   },
   "file_extension": ".py",
   "mimetype": "text/x-python",
   "name": "python",
   "nbconvert_exporter": "python",
   "pygments_lexer": "ipython3",
   "version": "3.8.5"
  }
 },
 "nbformat": 4,
 "nbformat_minor": 4
}
